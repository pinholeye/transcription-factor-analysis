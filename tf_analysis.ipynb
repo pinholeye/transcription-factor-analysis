{
 "cells": [
  {
   "cell_type": "markdown",
   "metadata": {},
   "source": []
  },
  {
   "cell_type": "code",
   "execution_count": 1,
   "metadata": {},
   "outputs": [],
   "source": [
    "import urllib.request\n",
    "import pandas as pd\n",
    "from os import getcwd, mkdir, listdir, chdir\n",
    "import gzip\n",
    "import pybedtools\n",
    "from gprofiler import GProfiler\n",
    "import numpy as np\n",
    "import os, sys\n",
    "import re\n",
    "import glob\n",
    "import seaborn as sns\n",
    "import matplotlib.pyplot as plt"
   ]
  },
  {
   "cell_type": "code",
   "execution_count": 2,
   "metadata": {},
   "outputs": [],
   "source": [
    "#Catalog structure\n",
    "\n",
    "local_path = getcwd() \n",
    "mkdir(local_path + \"/GO_enrichment/\")\n",
    "mkdir(local_path + \"/Downloads/\")\n",
    "mkdir(local_path + \"/Downloads/Uncompressed/\")\n",
    "mkdir(local_path + \"/Downloads/Uncompressed/Pre-processing/\")"
   ]
  },
  {
   "cell_type": "code",
   "execution_count": 3,
   "metadata": {},
   "outputs": [],
   "source": [
    "# download\n",
    "\n",
    "file = open(\"Transcription_factors.txt\")\n",
    "tf_id = []\n",
    "download_links = []\n",
    "with file as infile:\n",
    "    for line in infile:\n",
    "        tf_id.append(line.split()[1])\n",
    "        download_links.append(line.split()[3])\n",
    "\n",
    "download_links = download_links[1:]\n",
    "\n",
    "for i in range(0, len(download_links)):\n",
    "    urllib.request.urlretrieve(download_links[i], local_path + \"/Downloads/\" + tf_id[i+1] + \".gz\")"
   ]
  },
  {
   "cell_type": "code",
   "execution_count": 4,
   "metadata": {},
   "outputs": [],
   "source": [
    "#unziping transcription factors files\n",
    "\n",
    "prefix = \"TF0\"\n",
    "for i in range(21,41):\n",
    "    name = str(prefix + str(i) + \".gz\")\n",
    "    with gzip.open(local_path + \"/Downloads/\" + name , \"rb\") as f:\n",
    "        data = f.read()\n",
    "        data = data.decode(\"utf-8\")\n",
    "        name = local_path + \"/Downloads/Uncompressed/\" + str(prefix + str(i) + \".bed\")\n",
    "    with open(name, \"w\") as file:\n",
    "        file.write(data)\n",
    "        \n",
    "        \n",
    "#Preprocessing\n",
    "file = open(local_path + \"/Transcription_factors.txt\")\n",
    "tf_id = []\n",
    "tf_name = []\n",
    "with file as infile:\n",
    "    for line in infile:\n",
    "        tf_name.append(line.split()[0])\n",
    "        tf_id.append(line.split()[1])\n",
    "\n",
    "\n",
    "refix = \"TF0\"\n",
    "j = 1\n",
    "for i in range(21,41):\n",
    "    name = local_path + \"/Downloads/Uncompressed/\" + str(prefix + str(i) + \".bed\")\n",
    "    df = pd.read_csv(name, sep=\"\\t\")\n",
    "    df[tf_id[j]] = tf_id[j]\n",
    "    df[tf_name[j]] = tf_name[j]\n",
    "    j += 1\n",
    "    name = local_path + \"/Downloads/Uncompressed/Pre-processing/\" + str(prefix + str(i) + \".bed\")\n",
    "    df.to_csv(name, sep = \"\\t\", index = False)"
   ]
  },
  {
   "cell_type": "code",
   "execution_count": 5,
   "metadata": {},
   "outputs": [
    {
     "name": "stderr",
     "output_type": "stream",
     "text": [
      "/home/nellman/anaconda3/lib/python3.7/site-packages/IPython/core/interactiveshell.py:3063: DtypeWarning: Columns (13) have mixed types.Specify dtype option on import or set low_memory=False.\n",
      "  interactivity=interactivity, compiler=compiler, result=result)\n"
     ]
    }
   ],
   "source": [
    "extract_path = local_path + \"/Downloads/Uncompressed/Pre-processing/\"\n",
    "file_names = listdir(extract_path)\n",
    "save_path = getcwd() + \"/intersection.bed\"\n",
    "\n",
    "\n",
    "merged = \"\"\n",
    "for file in file_names:\n",
    "    file_path = extract_path + \"/\" + file\n",
    "    with open(file_path, \"r\") as f:\n",
    "        content = f.read()\n",
    "        merged += content\n",
    "\n",
    "path_merged = local_path + \"/merged.bed\"\n",
    "with open(path_merged, \"w\") as f:\n",
    "    f.write(merged)\n",
    "\n",
    "a = pybedtools.BedTool(local_path + \"/REMAnnotation.bed\")\n",
    "b = path_merged\n",
    "a.intersect(b, f = 0.5,  filenames = True, sortout = True, header = True, wo = True).saveas(save_path)\n",
    "    \n",
    "\n",
    "final_save = local_path + \"/cut_intersection.bed\"\n",
    "df = pd.read_csv(save_path, sep = \"\\t\", skiprows = 1)\n",
    "df_2 = pd.DataFrame()\n",
    "#print(df.head(50))\n",
    "df_2[\"REMID\"] = df.iloc[:,4]\n",
    "#print(df_2)\n",
    "df_2[\"TF_ID\"] = df.iloc[:,-3]\n",
    "df_2[\"TF_NAME\"] = df.iloc[:,-2]\n",
    "\n",
    "df_2.to_csv(final_save, sep = \"\\t\")"
   ]
  },
  {
   "cell_type": "code",
   "execution_count": 6,
   "metadata": {},
   "outputs": [],
   "source": [
    "intersection = pd.read_csv(local_path + \"/intersection.bed\", sep='\\t', engine='python')\n",
    "cut_intersection = pd.read_csv(local_path + \"/cut_intersection.bed\", sep='\\t', engine='python')\n",
    "intersection_full = pd.read_csv(local_path + \"/intersection.bed\", sep='\\t', skiprows =1)"
   ]
  },
  {
   "cell_type": "code",
   "execution_count": 7,
   "metadata": {},
   "outputs": [
    {
     "name": "stdout",
     "output_type": "stream",
     "text": [
      "How many times does a specific REMID occur? \n",
      " REM1112246    16\n",
      "REM1716342    16\n",
      "REM1912108    16\n",
      "REM1914916    16\n",
      "REM1912109    16\n",
      "              ..\n",
      "REM0357017     1\n",
      "REM1114492     1\n",
      "REM2335786     1\n",
      "REM0969176     1\n",
      "REM2088161     1\n",
      "Name: REMID, Length: 807069, dtype: int64\n",
      "\n",
      "\n",
      "How many peaks per TFs overlap with a REM? \n",
      " SOX6      267145\n",
      "TCF12     151599\n",
      "REST      136828\n",
      "IRF9      134472\n",
      "ZHX1      122235\n",
      "E2F7      117692\n",
      "ATF2      116030\n",
      "MEIS2     113681\n",
      "UBTF       37080\n",
      "MAFK       30437\n",
      "CUX1       22481\n",
      "CTCF       17187\n",
      "TEAD4      13549\n",
      "DACH1       9513\n",
      "NFYA        6049\n",
      "USF1        5991\n",
      "NRF1        4099\n",
      "GATA2       4029\n",
      "ZBTB33      1323\n",
      "SFPQ         151\n",
      "Name: TF_NAME, dtype: int64\n",
      "What’s the average overall TFs you analysed? \n",
      " 65578.55\n"
     ]
    }
   ],
   "source": [
    "#How many times does a specific REMID occur\n",
    "y = cut_intersection['REMID'].value_counts()\n",
    "print(\"How many times does a specific REMID occur? \\n\", y)\n",
    "\n",
    "#How many peaks per TFs overlap with a REM?\n",
    "x = cut_intersection['TF_NAME'].value_counts()\n",
    "print(\"\\n\")\n",
    "print(\"How many peaks per TFs overlap with a REM? \\n\", x)\n",
    "\n",
    "# What’s the average overall TFs you analysed?\n",
    "df = pd.DataFrame(x)\n",
    "tf_sum = df[\"TF_NAME\"].sum()\n",
    "tf_number = len(cut_intersection['TF_NAME'].unique())\n",
    "mean = tf_sum/tf_number\n",
    "print(\"What’s the average overall TFs you analysed? \\n\", mean)"
   ]
  },
  {
   "cell_type": "code",
   "execution_count": 8,
   "metadata": {},
   "outputs": [
    {
     "name": "stdout",
     "output_type": "stream",
     "text": [
      "{'TF027': 132.73558554343148, 'TF023': 145.99988564491866, 'TF032': 131.42980694865847, 'TF028': 153.48349048855013, 'TF039': 170.8323624595469, 'TF040': 146.51413854725112, 'TF022': 123.32231680854615, 'TF026': 158.71780614741337, 'TF031': 159.55430649694165, 'TF037': 155.53642384105962, 'TF034': 140.6678210278432, 'TF030': 167.1752295855051, 'TF025': 117.2625240006982, 'TF029': 155.16391309219088, 'TF021': 133.10518132073548, 'TF038': 144.24566967553062, 'TF024': 121.59939531368103, 'TF033': 147.52889925144189, 'TF036': 142.4895564248284, 'TF035': 154.00344227789634}\n"
     ]
    }
   ],
   "source": [
    "#What is th eaverage overlap between TF-Chip-seq peak and REM per TF experiment?\n",
    "tf_ids = list(set(intersection.iloc[:,-3]))\n",
    "my_list = []\n",
    "for tf_id in tf_ids:\n",
    "# get only the rows for a specific transcription factor\n",
    "    is_tf = intersection.iloc[:,-3] == tf_id\n",
    "    df = intersection[is_tf]\n",
    "    overlap = df.iloc[:,-1].sum()\n",
    "    count = df.iloc[:,-1].count()\n",
    "    average = overlap/count\n",
    "    my_list.append(average)\n",
    "my_dict = dict(zip(tf_ids, my_list))\n",
    "print(my_dict)"
   ]
  },
  {
   "cell_type": "code",
   "execution_count": 9,
   "metadata": {},
   "outputs": [],
   "source": [
    "#How many REMs overlap with more than one TF’s binding sites?\n",
    "df2 = cut_intersection.groupby('REMID')['TF_NAME'].unique()\n"
   ]
  },
  {
   "cell_type": "code",
   "execution_count": 10,
   "metadata": {},
   "outputs": [
    {
     "name": "stdout",
     "output_type": "stream",
     "text": [
      "This many REMs overlapp with the specified number of TFs:  82\n"
     ]
    },
    {
     "data": {
      "image/png": "[encoded data removed]",
      "text/plain": [
       "<Figure size 432x288 with 1 Axes>"
      ]
     },
     "metadata": {},
     "output_type": "display_data"
    }
   ],
   "source": [
    "#Run this cell only if you have the computational power requiered to generate the plot!\n",
    "\n",
    "df3 = pd.DataFrame(df2)\n",
    "df3[\"TF_Number\"] = df3[\"TF_NAME\"].str.len()\n",
    "df3[\"REMID\"] = df3.index\n",
    "\n",
    "#filter REMID that overlapp more than 12 TFs (Default value). Please Select the Number to filter.\n",
    "is1 = df3[\"TF_Number\"] > 12\n",
    "df = df3[is1]\n",
    "\n",
    "print(\"This many REMs overlapp with the specified number of TFs: \", len(df))\n",
    "#generate a barplot - this is a time killer - not optimized\n",
    "\n",
    "sns.set(style=\"whitegrid\")\n",
    "rem_plot = sns.barplot(y=\"TF_Number\", x=\"REMID\", data=df)\n"
   ]
  },
  {
   "cell_type": "code",
   "execution_count": 11,
   "metadata": {},
   "outputs": [],
   "source": [
    "#initalise file path\n",
    "path = local_path + \"/intersection.bed\"\n",
    "intersection = None\n",
    "\n",
    "# get the wanted coulumns\n",
    "intersection = pd.DataFrame()\n",
    "intersection[\"geneID\"] = intersection_full.iloc[:,3]\n",
    "intersection[\"TF_NAME\"] = intersection_full.iloc[:,-3]\n",
    "intersection[\"TF_ID\"] = intersection_full.iloc[:,-3]"
   ]
  },
  {
   "cell_type": "code",
   "execution_count": 12,
   "metadata": {},
   "outputs": [],
   "source": [
    "#GO enrichtment analysis\n",
    "\n",
    "tf_ids = list(set(intersection[\"TF_ID\"]))\n",
    "\n",
    "# loop through every transcription factor for go:enrichment\n",
    "for tf_id in tf_ids:\n",
    "    # get only the rows for a specific transcription factor\n",
    "    is_tf = intersection[\"TF_ID\"] == tf_id\n",
    "    df = intersection[is_tf]\n",
    "    \n",
    "    # extract unique gene IDs\n",
    "    gene_ids = list(set(df[\"geneID\"]))\n",
    "    \n",
    "    # use go:enrichment for the se genes\n",
    "    gp = GProfiler(return_dataframe=True)\n",
    "    go_enrichment = gp.profile(organism='hsapiens', query= gene_ids)\n",
    "    go_enrichment[\"TF_ID\"] = tf_id\n",
    "    \n",
    "    # get only GO:CC data and keep only the first 10 rows\n",
    "    is_go = go_enrichment[\"source\"] == \"GO:CC\"\n",
    "    go_enrichment = go_enrichment[is_go]\n",
    "    go_enrichment = go_enrichment.iloc[:10]\n",
    "    enriched = pd.DataFrame()\n",
    "    enriched[\"TF_ID\"] = go_enrichment[\"TF_ID\"]\n",
    "    enriched[\"ExternalID\"] = go_enrichment[\"native\"]\n",
    "    enriched[\"Function\"] = go_enrichment[\"name\"]\n",
    "    \n",
    "\n",
    "    # save as .csv\n",
    "    path = local_path + \"/GO_enrichment/\" + tf_id + \".csv\"\n",
    "    enriched.to_csv(path, index = False)"
   ]
  },
  {
   "cell_type": "code",
   "execution_count": 13,
   "metadata": {},
   "outputs": [],
   "source": [
    "#merge output GO to one file \n",
    "chdir(local_path + \"/GO_enrichment/\")\n",
    "extension = 'csv'\n",
    "all_filenames = [i for i in glob.glob('*.{}'.format(extension))]\n",
    "#combine all files in the list\n",
    "combined_csv = pd.concat([pd.read_csv(f) for f in all_filenames ])\n",
    "#export to csv\n",
    "combined_csv.to_csv(\"combined_csv.csv\", index=False, encoding='utf-8-sig')"
   ]
  },
  {
   "cell_type": "code",
   "execution_count": 14,
   "metadata": {},
   "outputs": [
    {
     "data": {
      "image/png": "[encoded data removed]",
      "text/plain": [
       "<Figure size 432x288 with 2 Axes>"
      ]
     },
     "metadata": {},
     "output_type": "display_data"
    }
   ],
   "source": [
    "#generate a heatmap for Gene ontology and our transcription factors\n",
    "\n",
    "file = pd.read_csv(local_path + \"/GO_enrichment/combined_csv.csv\")\n",
    "file = file[~file.reset_index().duplicated().values]\n",
    "file = file[['TF_ID','Function']]\n",
    "df1 = pd.get_dummies(file.set_index(\"Function\")[\"TF_ID\"]).max(level=0).reset_index()\n",
    "sns.set()\n",
    "df2 = df1.set_index('Function')\n",
    "sns.heatmap(df2)\n",
    "plt.show()"
   ]
  },
  {
   "cell_type": "code",
   "execution_count": null,
   "metadata": {},
   "outputs": [],
   "source": []
  }
 ],
 "metadata": {
  "kernelspec": {
   "display_name": "Python 3",
   "language": "python",
   "name": "python3"
  },
  "language_info": {
   "codemirror_mode": {
    "name": "ipython",
    "version": 3
   },
   "file_extension": ".py",
   "mimetype": "text/x-python",
   "name": "python",
   "nbconvert_exporter": "python",
   "pygments_lexer": "ipython3",
   "version": "3.7.6"
  }
 },
 "nbformat": 4,
 "nbformat_minor": 4
}